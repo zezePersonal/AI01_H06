{
 "cells": [
  {
   "cell_type": "markdown",
   "metadata": {},
   "source": [
    "## Pipeline"
   ]
  },
  {
   "cell_type": "markdown",
   "metadata": {},
   "source": [
    "Pipeline, veri on isleme ve modelleme sirasinda kodu duzenli tutmanin bir yoludur. (metin hocada)"
   ]
  },
  {
   "cell_type": "code",
   "execution_count": 4,
   "metadata": {},
   "outputs": [],
   "source": [
    "import pandas as pd\n",
    "from sklearn.model_selection import train_test_split"
   ]
  },
  {
   "cell_type": "code",
   "execution_count": 6,
   "metadata": {},
   "outputs": [],
   "source": [
    "path = \"/workspaces/AI01_H06/melb_data.csv\"\n",
    "df = pd.read_csv(path)\n",
    "\n",
    "X = df.drop(['Price'], axis=1)  # axis=1 sutun anlamina gelir\n",
    "y = df.Price\n",
    "\n",
    "X_train, X_test, y_train, y_test = train_test_split(X, y, train_size=0.80, random_state=0)   # train_size default 0.7\n"
   ]
  },
  {
   "cell_type": "code",
   "execution_count": null,
   "metadata": {},
   "outputs": [],
   "source": [
    "# Veri on isleme yaparken target datasinda on isleme yapilmaz. ALTIN KURAL \n",
    "# Veri on isleme asamalari X_train ve X_test uzerinde yapilir\n",
    "\n",
    "categorical_cols = [\n",
    "    cname\n",
    "    for cname in X_train.columns\n",
    "    if X_train[cname].nunique() < 10 and X_train[cname].dtype == 'Object'   \n",
    "]\n",
    "\n",
    "numerical_cols = [\n",
    "    cname\n",
    "    for cname in X_train.columns\n",
    "    if X_train[cname].dtype in ['int64', 'float64']\n",
    "]"
   ]
  },
  {
   "cell_type": "code",
   "execution_count": null,
   "metadata": {},
   "outputs": [],
   "source": [
    "X_train_copy = X_train.copy()\n",
    "X_test_copy = X_test.copy()\n",
    "\n",
    "all_cols = categorical_cols+numerical_cols  # Butun sutunlari liste halinde tutmak icin"
   ]
  },
  {
   "cell_type": "code",
   "execution_count": 17,
   "metadata": {},
   "outputs": [],
   "source": [
    "# On isleme asamalari (1. Adim)\n",
    "\n",
    "from sklearn.compose import ColumnTransformer   # Kategorik ve numerik veriyi anyi anda isleme alabilmek icin bu columntransformer kullaniyoruz\n",
    "from sklearn.pipeline import Pipeline\n",
    "from sklearn.impute import SimpleImputer  # pipeline eksik verilerle ugrasmak icin\n",
    "from sklearn.preprocessing import OneHotEncoder  # cok populer, official doc. dan bak - Veri Biliminde kariyer yapacaklar bunu ezbere biliyor - youtube'da \"anlasilir ekonomi\" kanali, Python listesi \n",
    "\n"
   ]
  },
  {
   "cell_type": "code",
   "execution_count": 19,
   "metadata": {},
   "outputs": [],
   "source": [
    "numerical_transformers = SimpleImputer(strategy='constant')\n",
    "categorical_transformers = Pipeline(steps=[\n",
    "    (\"imputer\", SimpleImputer(strategy='most frequent')),\n",
    "    ('onehot', OneHotEncoder(handle_unknown='ignore'))   # one-hot encoding calisma mantigi, evernote, alpha numeric verileri sayisallastirir\n",
    "\n",
    "])\n",
    "\n"
   ]
  },
  {
   "cell_type": "code",
   "execution_count": 20,
   "metadata": {},
   "outputs": [],
   "source": [
    "preprocessor = ColumnTransformer(\n",
    "    transformers = [\n",
    "        ('num', numerical_transformers, numerical_cols),\n",
    "        ('cat', categorical_transformers, categorical_cols)\n",
    "    ]\n",
    ")\n"
   ]
  },
  {
   "cell_type": "code",
   "execution_count": 21,
   "metadata": {},
   "outputs": [],
   "source": [
    "from sklearn.ensemble import RandomForestRegressor\n",
    "model = RandomForestRegressor(n_estimators=100, random_state=0)"
   ]
  },
  {
   "cell_type": "code",
   "execution_count": 22,
   "metadata": {},
   "outputs": [],
   "source": [
    "# Tanimlama kismi\n",
    "my_pipeline = Pipeline(steps=[\n",
    "    ('preprocessor', preprocessor),\n",
    "    ('model', model)\n",
    "])\n"
   ]
  },
  {
   "cell_type": "code",
   "execution_count": 23,
   "metadata": {},
   "outputs": [],
   "source": [
    "from sklearn.metrics import mean_absolute_error"
   ]
  },
  {
   "cell_type": "code",
   "execution_count": null,
   "metadata": {},
   "outputs": [
    {
     "name": "stdout",
     "output_type": "stream",
     "text": [
      "Score: 169829.65314783645\n"
     ]
    }
   ],
   "source": [
    "# Egitim kismi\n",
    "\n",
    "my_pipeline.fit(X_train, y_train)\n",
    "preds = my_pipeline.predict(X_test)\n",
    "score = mean_absolute_error(y_test, preds)\n",
    "print(f\"Score: {score}\")   # 169829 USD"
   ]
  },
  {
   "cell_type": "code",
   "execution_count": null,
   "metadata": {},
   "outputs": [],
   "source": [
    "# 190k'den 169k'ya dustu on isleme ile\n",
    "# Hoca der ki, bu on isleme aslinda cok basit. Daha detayli bir onisleme ile daha iyi sonuclar alinabilir."
   ]
  }
 ],
 "metadata": {
  "kernelspec": {
   "display_name": "h06_env",
   "language": "python",
   "name": "python3"
  },
  "language_info": {
   "codemirror_mode": {
    "name": "ipython",
    "version": 3
   },
   "file_extension": ".py",
   "mimetype": "text/x-python",
   "name": "python",
   "nbconvert_exporter": "python",
   "pygments_lexer": "ipython3",
   "version": "3.12.1"
  }
 },
 "nbformat": 4,
 "nbformat_minor": 2
}
